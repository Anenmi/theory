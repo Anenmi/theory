{
  "nbformat": 4,
  "nbformat_minor": 0,
  "metadata": {
    "kernelspec": {
      "display_name": "Python 3",
      "language": "python",
      "name": "python3"
    },
    "language_info": {
      "codemirror_mode": {
        "name": "ipython",
        "version": 3
      },
      "file_extension": ".py",
      "mimetype": "text/x-python",
      "name": "python",
      "nbconvert_exporter": "python",
      "pygments_lexer": "ipython3",
      "version": "3.8.5"
    },
    "colab": {
      "name": "sem01.ipynb",
      "provenance": []
    }
  },
  "cells": [
    {
      "cell_type": "markdown",
      "metadata": {
        "id": "prnUdM9LRUqi"
      },
      "source": [
        "## Вступление\n",
        "\n",
        "Всем привет! На сегодняшнем семинаре мы познакомимся с библиотекой **pytorch**. Он очень похож на numpy, с одним лишь отличием (на самом деле их больше, но сейчас мы поговорим про самое главное) -- pytorch может считать градиенты за вас. Таким образом вам не надо будет руками писать обратный проход в нейросетях. \n",
        "\n",
        "#### Семинар построен следующим образом:\n",
        "\n",
        "1. Вспоминаем numpy и сравниваем операции в pytorch\n",
        "2. Создаем тензоры в pytorch\n",
        "3. Работаем с градиентами руками\n",
        "4. Моя первая нейросеть "
      ]
    },
    {
      "cell_type": "markdown",
      "metadata": {
        "id": "qMkiMgy-RUqm"
      },
      "source": [
        "### 1. Вспоминаем numpy и сравниваем операции в pytorch\n",
        "\n",
        "Мы можем создавать матрицы, перемножать их, складывать, транспонировать и в целом совершать любые матричные операции"
      ]
    },
    {
      "cell_type": "code",
      "metadata": {
        "id": "0OaIIIB2RUqn"
      },
      "source": [
        "import matplotlib.pyplot as plt\n",
        "import numpy as np\n",
        "import torch\n",
        "import torch.nn.functional as F\n",
        "import torchvision\n",
        "from sklearn.datasets import load_boston\n",
        "from torch import nn\n",
        "from tqdm.notebook import tqdm\n",
        "\n",
        "%matplotlib inline"
      ],
      "execution_count": null,
      "outputs": []
    },
    {
      "cell_type": "code",
      "metadata": {
        "id": "OmJKZMMhRUqp",
        "outputId": "880397c3-04d4-43ee-d95e-bb65e859149d"
      },
      "source": [
        "# случайная матрица\n",
        "a = np.random.rand(5, 3)\n",
        "a"
      ],
      "execution_count": null,
      "outputs": [
        {
          "data": {
            "text/plain": [
              "array([[0.30053822, 0.79606207, 0.22313179],\n",
              "       [0.02615411, 0.6706427 , 0.72888283],\n",
              "       [0.62949634, 0.31219954, 0.83007368],\n",
              "       [0.12317583, 0.42121244, 0.7102105 ],\n",
              "       [0.07609171, 0.85509056, 0.88112453]])"
            ]
          },
          "execution_count": 2,
          "metadata": {},
          "output_type": "execute_result"
        }
      ]
    },
    {
      "cell_type": "code",
      "metadata": {
        "id": "C7dwkGLgRUqq",
        "outputId": "a52887d5-caa3-480b-f887-5fb1a7f62504"
      },
      "source": [
        "print(f\"Размеры: {a.shape}\")"
      ],
      "execution_count": null,
      "outputs": [
        {
          "name": "stdout",
          "output_type": "stream",
          "text": [
            "Размеры: (5, 3)\n"
          ]
        }
      ]
    },
    {
      "cell_type": "code",
      "metadata": {
        "id": "ntnAEhGARUqr",
        "outputId": "f0c31f12-6816-48bb-b5fc-8d62219c9d91"
      },
      "source": [
        "print(f\"Добавили 5:\\n{a + 5}\")"
      ],
      "execution_count": null,
      "outputs": [
        {
          "name": "stdout",
          "output_type": "stream",
          "text": [
            "Добавили 5:\n",
            "[[5.30053822 5.79606207 5.22313179]\n",
            " [5.02615411 5.6706427  5.72888283]\n",
            " [5.62949634 5.31219954 5.83007368]\n",
            " [5.12317583 5.42121244 5.7102105 ]\n",
            " [5.07609171 5.85509056 5.88112453]]\n"
          ]
        }
      ]
    },
    {
      "cell_type": "code",
      "metadata": {
        "id": "OAysxJgvRUqs",
        "outputId": "8abc97ed-ab2e-4c02-83aa-26ea2eee3189"
      },
      "source": [
        "print(f\"Посчитали произведение X X^T:\\n{a @ a.T}\")"
      ],
      "execution_count": null,
      "outputs": [
        {
          "name": "stdout",
          "output_type": "stream",
          "text": [
            "Посчитали произведение X X^T:\n",
            "[[0.77382584 0.70437046 0.62293375 0.53080083 0.90018053]\n",
            " [0.70437046 0.98171586 0.83086472 0.80336485 1.2176869 ]\n",
            " [0.62293375 0.83086472 1.18275651 0.79856811 1.04625662]\n",
            " [0.53080083 0.80336485 0.79856811 0.69699116 0.99533134]\n",
            " [0.90018053 1.2176869  1.04625662 0.99533134 1.51335026]]\n"
          ]
        }
      ]
    },
    {
      "cell_type": "code",
      "metadata": {
        "id": "z2z4mJlfRUqt",
        "outputId": "98bfd71d-1f2c-4a35-8bad-7d9814f1a484"
      },
      "source": [
        "print(f\"Среднее по колонкам:\\n{a.mean(axis=-1)}\")"
      ],
      "execution_count": null,
      "outputs": [
        {
          "name": "stdout",
          "output_type": "stream",
          "text": [
            "Среднее по колонкам:\n",
            "[0.43991069 0.47522655 0.59058986 0.41819959 0.60410227]\n"
          ]
        }
      ]
    },
    {
      "cell_type": "code",
      "metadata": {
        "id": "qT0plPxURUqu",
        "outputId": "ef43360e-57c0-4d14-b9b3-33a3db1051f2"
      },
      "source": [
        "print(f\"Изменили размеры: {a.reshape(3, 5).shape}\")"
      ],
      "execution_count": null,
      "outputs": [
        {
          "name": "stdout",
          "output_type": "stream",
          "text": [
            "Изменили размеры: (3, 5)\n"
          ]
        }
      ]
    },
    {
      "cell_type": "markdown",
      "metadata": {
        "id": "ZerHMIvIRUqv"
      },
      "source": [
        "#### Разминка.\n",
        "\n",
        "При помощи numpy посчитайте сумму квадратов натуральных чисел от 1 до 10000."
      ]
    },
    {
      "cell_type": "code",
      "metadata": {
        "id": "wXlESTdARUqv"
      },
      "source": [
        "# YOUR CODE"
      ],
      "execution_count": null,
      "outputs": []
    },
    {
      "cell_type": "markdown",
      "metadata": {
        "id": "-SF3lKwKRUqv"
      },
      "source": [
        "Аналогичные операции в **pytorch** выглядят следующим образом, синтаксис отличается, но совсем немного:"
      ]
    },
    {
      "cell_type": "code",
      "metadata": {
        "id": "OYBhI5QERUqw",
        "outputId": "12f2bf4d-8078-4785-e51a-beff0df649f1"
      },
      "source": [
        "x = torch.rand(5, 3)\n",
        "x"
      ],
      "execution_count": null,
      "outputs": [
        {
          "data": {
            "text/plain": [
              "tensor([[0.9297, 0.5785, 0.0598],\n",
              "        [0.8556, 0.1148, 0.5134],\n",
              "        [0.3696, 0.2779, 0.7905],\n",
              "        [0.0739, 0.7154, 0.4159],\n",
              "        [0.3268, 0.2557, 0.4594]])"
            ]
          },
          "execution_count": 9,
          "metadata": {},
          "output_type": "execute_result"
        }
      ]
    },
    {
      "cell_type": "code",
      "metadata": {
        "id": "QXJsh73HRUqw",
        "outputId": "966b29e8-46a5-4b76-c429-2b25d648fedc"
      },
      "source": [
        "print(f\"Размеры: {x.shape}\")"
      ],
      "execution_count": null,
      "outputs": [
        {
          "name": "stdout",
          "output_type": "stream",
          "text": [
            "Размеры: torch.Size([5, 3])\n"
          ]
        }
      ]
    },
    {
      "cell_type": "code",
      "metadata": {
        "id": "bcLadI0lRUqw",
        "outputId": "feb1b8fc-1925-4760-dd04-baf36a02dbda"
      },
      "source": [
        "print(f\"Добавили 5:\\n{x + 5}\")"
      ],
      "execution_count": null,
      "outputs": [
        {
          "name": "stdout",
          "output_type": "stream",
          "text": [
            "Добавили 5:\n",
            "tensor([[5.9297, 5.5785, 5.0598],\n",
            "        [5.8556, 5.1148, 5.5134],\n",
            "        [5.3696, 5.2779, 5.7905],\n",
            "        [5.0739, 5.7154, 5.4159],\n",
            "        [5.3268, 5.2557, 5.4594]])\n"
          ]
        }
      ]
    },
    {
      "cell_type": "code",
      "metadata": {
        "id": "kYrKcjUFRUqx",
        "outputId": "58ccf502-8a88-4412-94a5-5d67fca16e59"
      },
      "source": [
        "# для перемножения тензоров высокой размерности читайте документацию по различным вариантам:\n",
        "# torch.mm, torch.matmul, torch.bmm, @\n",
        "print(f\"X X^T  (1):\\n{torch.matmul(x, x.transpose(1, 0))}\\n\")\n",
        "print(f\"X X^T  (2):\\n{x.mm(x.t())}\")"
      ],
      "execution_count": null,
      "outputs": [
        {
          "name": "stdout",
          "output_type": "stream",
          "text": [
            "X X^T  (1):\n",
            "tensor([[1.2026, 0.8926, 0.5517, 0.5075, 0.4792],\n",
            "        [0.8926, 1.0089, 0.7540, 0.3589, 0.5448],\n",
            "        [0.5517, 0.7540, 0.8388, 0.5549, 0.5550],\n",
            "        [0.5075, 0.3589, 0.5549, 0.6903, 0.3982],\n",
            "        [0.4792, 0.5448, 0.5550, 0.3982, 0.3832]])\n",
            "\n",
            "X X^T  (2):\n",
            "tensor([[1.2026, 0.8926, 0.5517, 0.5075, 0.4792],\n",
            "        [0.8926, 1.0089, 0.7540, 0.3589, 0.5448],\n",
            "        [0.5517, 0.7540, 0.8388, 0.5549, 0.5550],\n",
            "        [0.5075, 0.3589, 0.5549, 0.6903, 0.3982],\n",
            "        [0.4792, 0.5448, 0.5550, 0.3982, 0.3832]])\n"
          ]
        }
      ]
    },
    {
      "cell_type": "code",
      "metadata": {
        "id": "k3zFmowjRUqx",
        "outputId": "7114b873-4425-4a58-ddf6-8f3a630c0062"
      },
      "source": [
        "print(f\"Среднее по колонкам:\\n{x.mean(dim=-1)}\")"
      ],
      "execution_count": null,
      "outputs": [
        {
          "name": "stdout",
          "output_type": "stream",
          "text": [
            "Среднее по колонкам:\n",
            "tensor([0.5227, 0.4946, 0.4793, 0.4017, 0.3473])\n"
          ]
        }
      ]
    },
    {
      "cell_type": "code",
      "metadata": {
        "id": "CTzVtHy7RUqx",
        "outputId": "1c985d79-c004-4738-d731-d55863634879"
      },
      "source": [
        "print(f\"Изменили размеры:\\n{x.view([3, 5]).shape}\\n\")\n",
        "\n",
        "# будьте внимательны и не используйте view для транспонирования осей\n",
        "print(f\"По-другому изменили размеры:\\n{x.view_as(x.t()).shape}\\n\")\n",
        "print(f\"Но не транспонировали!\\n{x.view_as(x.t()) == x.t()}\")"
      ],
      "execution_count": null,
      "outputs": [
        {
          "name": "stdout",
          "output_type": "stream",
          "text": [
            "Изменили размеры:\n",
            "torch.Size([3, 5])\n",
            "\n",
            "По-другому изменили размеры:\n",
            "torch.Size([3, 5])\n",
            "\n",
            "Но не транспонировали!\n",
            "tensor([[ True, False, False, False, False],\n",
            "        [False, False,  True, False, False],\n",
            "        [False, False, False, False,  True]])\n"
          ]
        }
      ]
    },
    {
      "cell_type": "markdown",
      "metadata": {
        "id": "XbpqfSP1RUqy"
      },
      "source": [
        "Небольшой пример того, как меняются операции:\n",
        "\n",
        "* `x.reshape([1,2,8]) -> x.view(1,2,8)`\n",
        "\n",
        "* `x.sum(axis=-1) -> x.sum(dim=-1)`\n",
        "\n",
        "* `x.astype(\"int64\") -> x.type(torch.LongTensor)`\n",
        "\n",
        "Для помощи вам есть [таблица](https://github.com/torch/torch7/wiki/Torch-for-Numpy-users), которая поможет вам найти аналог операции в numpy\n"
      ]
    },
    {
      "cell_type": "markdown",
      "metadata": {
        "id": "8loFN8zeRUqy"
      },
      "source": [
        "#### Разминка на pytorch\n",
        "\n",
        "При помощи pytorch посчитайте сумму квадратов натуральных чисел от 1 до 10000."
      ]
    },
    {
      "cell_type": "code",
      "metadata": {
        "id": "QNePkiBLRUqz"
      },
      "source": [
        "# YOUR CODE"
      ],
      "execution_count": null,
      "outputs": []
    },
    {
      "cell_type": "markdown",
      "metadata": {
        "id": "N6GHr334RUqz"
      },
      "source": [
        "### 2. Создаем тензоры в pytorch и снова изучаем базовые операции"
      ]
    },
    {
      "cell_type": "code",
      "metadata": {
        "id": "hNT5nlsmRUqz",
        "outputId": "854eb4c1-0c5a-40e0-d691-ecbcbd9be7b9"
      },
      "source": [
        "x = torch.empty(5, 3)  # пустой тензор\n",
        "print(x)"
      ],
      "execution_count": null,
      "outputs": [
        {
          "name": "stdout",
          "output_type": "stream",
          "text": [
            "tensor([[ 0.0000e+00, -3.6893e+19,  0.0000e+00],\n",
            "        [-3.6893e+19,  1.1210e-44,  0.0000e+00],\n",
            "        [ 0.0000e+00,  0.0000e+00,  0.0000e+00],\n",
            "        [ 0.0000e+00,  0.0000e+00,  0.0000e+00],\n",
            "        [ 0.0000e+00, -3.6893e+19,  0.0000e+00]])\n"
          ]
        }
      ]
    },
    {
      "cell_type": "code",
      "metadata": {
        "id": "R1d37C8XRUqz",
        "outputId": "b14c004d-6e7e-45ac-df21-865bb66b48be"
      },
      "source": [
        "x = torch.rand(5, 3)  # случайный тензор\n",
        "print(x)"
      ],
      "execution_count": null,
      "outputs": [
        {
          "name": "stdout",
          "output_type": "stream",
          "text": [
            "tensor([[0.5724, 0.0810, 0.1292],\n",
            "        [0.7980, 0.1857, 0.6358],\n",
            "        [0.1235, 0.0295, 0.6678],\n",
            "        [0.2880, 0.3949, 0.5731],\n",
            "        [0.9497, 0.1530, 0.1975]])\n"
          ]
        }
      ]
    },
    {
      "cell_type": "code",
      "metadata": {
        "id": "Jt5k9ha2RUq0",
        "outputId": "e3160636-8ad6-4782-e0aa-1404c0e85bc1"
      },
      "source": [
        "x = torch.zeros(5, 3, dtype=torch.float32)  # тензор с нулями и указанием типов чисел\n",
        "print(x)"
      ],
      "execution_count": null,
      "outputs": [
        {
          "name": "stdout",
          "output_type": "stream",
          "text": [
            "tensor([[0., 0., 0.],\n",
            "        [0., 0., 0.],\n",
            "        [0., 0., 0.],\n",
            "        [0., 0., 0.],\n",
            "        [0., 0., 0.]])\n"
          ]
        }
      ]
    },
    {
      "cell_type": "code",
      "metadata": {
        "id": "CjhXgLIYRUq0",
        "outputId": "e4865ba0-e89a-4daa-9d93-e8d5dcddd1e7"
      },
      "source": [
        "x = torch.tensor([5.5, 3])  # конструируем тензор из питоновского листа\n",
        "print(x)"
      ],
      "execution_count": null,
      "outputs": [
        {
          "name": "stdout",
          "output_type": "stream",
          "text": [
            "tensor([5.5000, 3.0000])\n"
          ]
        }
      ]
    },
    {
      "cell_type": "code",
      "metadata": {
        "id": "ma1_ODN9RUq0",
        "outputId": "032b123c-c58e-4265-b82a-ade43dcf1e15"
      },
      "source": [
        "x1 = x.new_ones(5, 3, dtype=torch.double)  # используем уже созданный тензор для создания тензора из единичек\n",
        "print(x, x.size()) "
      ],
      "execution_count": null,
      "outputs": [
        {
          "name": "stdout",
          "output_type": "stream",
          "text": [
            "tensor([5.5000, 3.0000]) torch.Size([2])\n"
          ]
        }
      ]
    },
    {
      "cell_type": "code",
      "metadata": {
        "id": "6KVKZEAXRUq1",
        "outputId": "6260637c-2218-439e-f84d-b6f11c403473"
      },
      "source": [
        "x = torch.randn_like(x1, dtype=torch.float)  # создаем случайный тензор с размерами x\n",
        "print(x, x.size())"
      ],
      "execution_count": null,
      "outputs": [
        {
          "name": "stdout",
          "output_type": "stream",
          "text": [
            "tensor([[-1.9685, -0.2421, -1.0406],\n",
            "        [-1.4150,  0.9677,  1.0034],\n",
            "        [ 0.5203,  1.8437,  0.5776],\n",
            "        [ 0.2828, -1.0542,  0.2663],\n",
            "        [ 0.1655, -1.4091,  0.2572]]) torch.Size([5, 3])\n"
          ]
        }
      ]
    },
    {
      "cell_type": "code",
      "metadata": {
        "id": "CjzBqrIeRUq1",
        "outputId": "ec6a4ac4-c9ca-4153-d99f-b4d98c24ea46"
      },
      "source": [
        "y = torch.rand(5, 3)\n",
        "print(x + y)  # операция сложения"
      ],
      "execution_count": null,
      "outputs": [
        {
          "name": "stdout",
          "output_type": "stream",
          "text": [
            "tensor([[-1.3196,  0.2767, -0.8574],\n",
            "        [-0.6903,  1.6999,  1.4345],\n",
            "        [ 0.6039,  2.8420,  0.9244],\n",
            "        [ 1.2148, -0.4547,  0.6926],\n",
            "        [ 0.1795, -1.2080,  0.7376]])\n"
          ]
        }
      ]
    },
    {
      "cell_type": "code",
      "metadata": {
        "id": "Nk8XyIRiRUq1",
        "outputId": "6e4f752d-46ad-4335-ee35-822a2e1c3a73"
      },
      "source": [
        "z = torch.add(x, y)  # очередная операция сложения\n",
        "print(z)"
      ],
      "execution_count": null,
      "outputs": [
        {
          "name": "stdout",
          "output_type": "stream",
          "text": [
            "tensor([[-1.3196,  0.2767, -0.8574],\n",
            "        [-0.6903,  1.6999,  1.4345],\n",
            "        [ 0.6039,  2.8420,  0.9244],\n",
            "        [ 1.2148, -0.4547,  0.6926],\n",
            "        [ 0.1795, -1.2080,  0.7376]])\n"
          ]
        }
      ]
    },
    {
      "cell_type": "code",
      "metadata": {
        "id": "QzsJnImMRUq1",
        "outputId": "58847c62-9fec-406b-bc16-1d75dd499411"
      },
      "source": [
        "torch.add(x, y, out=z)  # и наконец последний вид\n",
        "print(z)"
      ],
      "execution_count": null,
      "outputs": [
        {
          "name": "stdout",
          "output_type": "stream",
          "text": [
            "tensor([[-1.3196,  0.2767, -0.8574],\n",
            "        [-0.6903,  1.6999,  1.4345],\n",
            "        [ 0.6039,  2.8420,  0.9244],\n",
            "        [ 1.2148, -0.4547,  0.6926],\n",
            "        [ 0.1795, -1.2080,  0.7376]])\n"
          ]
        }
      ]
    },
    {
      "cell_type": "code",
      "metadata": {
        "id": "h8XbRcnqRUq2",
        "outputId": "7bad156d-a52a-4279-dff6-c2b209e3baf6"
      },
      "source": [
        "print(x * y)  # поэлементное умножение"
      ],
      "execution_count": null,
      "outputs": [
        {
          "name": "stdout",
          "output_type": "stream",
          "text": [
            "tensor([[-1.2775, -0.1256, -0.1907],\n",
            "        [-1.0255,  0.7086,  0.4325],\n",
            "        [ 0.0435,  1.8406,  0.2003],\n",
            "        [ 0.2635, -0.6319,  0.1135],\n",
            "        [ 0.0023, -0.2834,  0.1236]])\n"
          ]
        }
      ]
    },
    {
      "cell_type": "code",
      "metadata": {
        "id": "I8O5SCMqRUq2",
        "outputId": "da2f7c9a-5182-4e04-f40e-d69d12ba2939"
      },
      "source": [
        "print(x @ y.t())  # матричное умножение"
      ],
      "execution_count": null,
      "outputs": [
        {
          "name": "stdout",
          "output_type": "stream",
          "text": [
            "tensor([[-1.5938, -2.0525, -0.7671, -2.4235, -0.5761],\n",
            "        [-0.2324,  0.1156,  1.1958, -0.3110,  0.6568],\n",
            "        [ 1.4001,  1.9761,  2.0844,  1.8364,  0.6555],\n",
            "        [-0.3147, -0.4522, -0.9364, -0.2549, -0.0801],\n",
            "        [-0.5766, -0.8010, -1.3037, -0.5808, -0.1575]])\n"
          ]
        }
      ]
    },
    {
      "cell_type": "code",
      "metadata": {
        "id": "P995T9GTRUq2",
        "outputId": "feb2bf5e-4da8-42bc-ce7d-133be261b0df"
      },
      "source": [
        "print(x.mm(y.t()))  # и опять матричное умножение"
      ],
      "execution_count": null,
      "outputs": [
        {
          "name": "stdout",
          "output_type": "stream",
          "text": [
            "tensor([[-1.5938, -2.0525, -0.7671, -2.4235, -0.5761],\n",
            "        [-0.2324,  0.1156,  1.1958, -0.3110,  0.6568],\n",
            "        [ 1.4001,  1.9761,  2.0844,  1.8364,  0.6555],\n",
            "        [-0.3147, -0.4522, -0.9364, -0.2549, -0.0801],\n",
            "        [-0.5766, -0.8010, -1.3037, -0.5808, -0.1575]])\n"
          ]
        }
      ]
    },
    {
      "cell_type": "code",
      "metadata": {
        "id": "6ucmifIxRUq2",
        "outputId": "cbc537fc-fa2d-42e2-e7a1-b7304907eca5"
      },
      "source": [
        "print(x.unsqueeze(0).shape)  # добавили измерение в начало, аналог броадкастинга"
      ],
      "execution_count": null,
      "outputs": [
        {
          "name": "stdout",
          "output_type": "stream",
          "text": [
            "torch.Size([1, 5, 3])\n"
          ]
        }
      ]
    },
    {
      "cell_type": "code",
      "metadata": {
        "id": "1aJMgPg9RUq2",
        "outputId": "760c7ec7-8f6d-4196-bf92-98ab4d90d44f"
      },
      "source": [
        "print(x.unsqueeze(0).unsqueeze(1).squeeze().shape)  # убрали измерение в начале"
      ],
      "execution_count": null,
      "outputs": [
        {
          "name": "stdout",
          "output_type": "stream",
          "text": [
            "torch.Size([5, 3])\n"
          ]
        }
      ]
    },
    {
      "cell_type": "markdown",
      "metadata": {
        "id": "RGphpf0FRUq3"
      },
      "source": [
        "Мы также можем делать обычные срезы и переводить матрицы назад в numpy:"
      ]
    },
    {
      "cell_type": "code",
      "metadata": {
        "id": "d-3lXM7eRUq3",
        "outputId": "0e6a415b-7efd-433e-8886-434bab1579cc"
      },
      "source": [
        "a = np.ones((3, 5))\n",
        "x = torch.ones((3, 5))\n",
        "print(np.allclose(x.numpy(), a))\n",
        "print(np.allclose(x.numpy()[:, 1], a[:, 1]))"
      ],
      "execution_count": null,
      "outputs": [
        {
          "name": "stdout",
          "output_type": "stream",
          "text": [
            "True\n",
            "True\n"
          ]
        }
      ]
    },
    {
      "cell_type": "markdown",
      "metadata": {
        "id": "NL3rHw_hRUq3"
      },
      "source": [
        "### 3. Работаем с градиентами руками"
      ]
    },
    {
      "cell_type": "code",
      "metadata": {
        "id": "kheAmnTqRUq3",
        "outputId": "6005b62b-b92e-4737-f1e0-68364b495b05"
      },
      "source": [
        "boston = load_boston()\n",
        "plt.scatter(boston.data[:, -1], boston.target);"
      ],
      "execution_count": null,
      "outputs": [
        {
          "data": {
            "text/plain": [
              "<matplotlib.collections.PathCollection at 0x7f8d4898be80>"
            ]
          },
          "execution_count": 31,
          "metadata": {},
          "output_type": "execute_result"
        },
        {
          "data": {
            "image/png": "[encoded data removed]",
            "text/plain": [
              "<Figure size 432x288 with 1 Axes>"
            ]
          },
          "metadata": {
            "needs_background": "light"
          },
          "output_type": "display_data"
        }
      ]
    },
    {
      "cell_type": "markdown",
      "metadata": {
        "id": "sAVwrv22RUq3"
      },
      "source": [
        "В pytorch есть возможность при создании тензора указывать нужно ли считать по нему градиент или нет, с помощью параметра `requires_grad`. Когда `requires_grad=True` мы сообщаем фреймворку, о том, что мы хотим следить за всеми тензорами, которые получаются из созданного. Иными словами, у любого тензора, у которого указан данный параметр, будет доступ к цепочке операций и преобразований совершенными с ними. Если эти функции дифференцируемые, то у тензора появляется параметр `.grad`, в котором хранится значение градиента."
      ]
    },
    {
      "cell_type": "markdown",
      "metadata": {
        "id": "3unOnNI6RUq3"
      },
      "source": [
        "![torch_grad.png](attachment:torch_grad.png)"
      ]
    },
    {
      "cell_type": "markdown",
      "metadata": {
        "id": "nzpf-k3eRUq3"
      },
      "source": [
        "Если к результирующему тензору применить метод `.backward()`, то фреймворк посчитает по цепочке градиенту для всех тензоров, у которых `requires_grad=True`."
      ]
    },
    {
      "cell_type": "code",
      "metadata": {
        "id": "zvzH-CblRUq4"
      },
      "source": [
        "w = torch.rand(1, requires_grad=True)\n",
        "b = torch.rand(1, requires_grad=True)\n",
        "\n",
        "x = torch.tensor(boston.data[:, -1] / boston.data[:, -1].max(), dtype=torch.float32)\n",
        "y = torch.tensor(boston.target, dtype=torch.float32)\n",
        "\n",
        "# только создали тензоры и в них нет градиентов\n",
        "assert w.grad is None\n",
        "assert b.grad is None"
      ],
      "execution_count": null,
      "outputs": []
    },
    {
      "cell_type": "code",
      "metadata": {
        "id": "erkB1bLbRUq4"
      },
      "source": [
        "y_pred = w * x + b                    # и опять совершаем операции с тензорами\n",
        "loss = torch.mean((y_pred - y) ** 2)  # совершаем операции с тензорами\n",
        "loss.backward()                       # считаем градиенты"
      ],
      "execution_count": null,
      "outputs": []
    },
    {
      "cell_type": "code",
      "metadata": {
        "id": "ljq9QFejRUq4",
        "outputId": "f14bb86c-8439-4221-f0af-799024d0048b"
      },
      "source": [
        "# сделали операции и посчитали градиенты, значение должно было появится\n",
        "assert w.grad is not None\n",
        "assert b.grad is not None\n",
        "\n",
        "print(\"dL/dw = \\n\", w.grad)\n",
        "print(\"dL/db = \\n\", b.grad)"
      ],
      "execution_count": null,
      "outputs": [
        {
          "name": "stdout",
          "output_type": "stream",
          "text": [
            "dL/dw = \n",
            " tensor([-11.6832])\n",
            "dL/db = \n",
            " tensor([-42.8071])\n"
          ]
        }
      ]
    },
    {
      "cell_type": "markdown",
      "metadata": {
        "id": "9O4Mntl8RUq4"
      },
      "source": [
        "__Ремарка__. Для доступа к значениям в тензоре используйте атрибут `.data`:"
      ]
    },
    {
      "cell_type": "code",
      "metadata": {
        "id": "LF-whhbbRUq4",
        "outputId": "32d843fe-4178-4480-f470-bae3e1d87663"
      },
      "source": [
        "w.data"
      ],
      "execution_count": null,
      "outputs": [
        {
          "data": {
            "text/plain": [
              "tensor([0.4949])"
            ]
          },
          "execution_count": 35,
          "metadata": {},
          "output_type": "execute_result"
        }
      ]
    },
    {
      "cell_type": "code",
      "metadata": {
        "id": "Rn6Ty41NRUq4",
        "outputId": "7fde4c92-5416-4ca2-f8eb-60df01b5a27a"
      },
      "source": [
        "from IPython.display import clear_output\n",
        "\n",
        "for i in range(300):\n",
        "    y_pred = w * x + b\n",
        "    # попробуйте сделать полиномиальную регрессию в данном предсказании и посчитать градиенты после\n",
        "    loss = torch.mean((y_pred - y)**2)\n",
        "    loss.backward()\n",
        "\n",
        "    # делаем шаг градиентного спуска с lr = .05\n",
        "    w.data -=  0.05 * w.grad# YOUR CODE\n",
        "    b.data -=  0.05 * b.grad# YOUR CODE\n",
        "\n",
        "    # обнуляем градиенты, чтобы на следующем шаге опять посчитать и не аккумулировать их\n",
        "    w.grad.data.zero_()\n",
        "    b.grad.data.zero_()\n",
        "\n",
        "    # рисуем картинки\n",
        "    if (i + 1) % 5 == 0:\n",
        "        clear_output(True)\n",
        "        plt.figure(figsize=(10,8))\n",
        "        plt.scatter(x.data.numpy(), y.data.numpy(), label=\"data\")\n",
        "        plt.scatter(x.data.numpy(), y_pred.data.numpy(),\n",
        "                    color=\"orange\", linewidth=5, label=\"predictions\")\n",
        "        plt.xlabel(\"LSTAT\", fontsize=14)\n",
        "        plt.ylabel(\"MEDV (target)\", fontsize=14)\n",
        "        plt.title(\"Boston modelling\", fontsize=18)\n",
        "        plt.legend(fontsize=14)\n",
        "        plt.show()\n",
        "\n",
        "        print(\"loss = \", loss.data.numpy())\n",
        "        if loss.data.numpy() < 0.1:\n",
        "            print(\"Done!\")\n",
        "            break\n"
      ],
      "execution_count": null,
      "outputs": [
        {
          "data": {
            "image/png": "[encoded data removed]",
            "text/plain": [
              "<Figure size 720x576 with 1 Axes>"
            ]
          },
          "metadata": {
            "needs_background": "light"
          },
          "output_type": "display_data"
        },
        {
          "name": "stdout",
          "output_type": "stream",
          "text": [
            "loss =  48.261524\n"
          ]
        }
      ]
    },
    {
      "cell_type": "markdown",
      "metadata": {
        "id": "S9MQmW_VRUq5"
      },
      "source": [
        "### 4. Моя первая нейросеть"
      ]
    },
    {
      "cell_type": "markdown",
      "metadata": {
        "id": "C3xOvsqdRUq5"
      },
      "source": [
        "Для того, чтобы разобраться как обучать нейросите в pytorch, нужно освоить три вещи: \n",
        "\n",
        "1. Как формировать батчи и пихать их в сетку\n",
        "2. Как сделать сетку\n",
        "3. Как написать цикл обучения и отслеживать метрики"
      ]
    },
    {
      "cell_type": "markdown",
      "metadata": {
        "id": "8-VEHz3LRUq5"
      },
      "source": [
        "#### Как формировать батчи и подавать их на вход нейросети\n",
        "\n",
        "Чтобы в данном фреймворке иметь возможность итерироваться по данным и применять к ним преобразования, например, аугментации, о которых вы узнаете позже -- нужно создать свой класс унаследованный от `torch.utils.data.Dataset`.\n",
        "\n",
        "Вот пример из документации:\n",
        "\n",
        "```\n",
        "class FaceLandmarksDataset(torch.utils.data.Dataset):\n",
        "    \"\"\"Face Landmarks dataset.\"\"\"\n",
        "\n",
        "    def __init__(self, csv_file, root_dir, transform=None):\n",
        "        \"\"\"\n",
        "        Args:\n",
        "            csv_file (string): Path to the csv file with annotations.\n",
        "            root_dir (string): Directory with all the images.\n",
        "            transform (callable, optional): Optional transform to be applied\n",
        "                on a sample.\n",
        "        \"\"\"\n",
        "        self.landmarks_frame = pd.read_csv(csv_file)\n",
        "        self.root_dir = root_dir\n",
        "        self.transform = transform\n",
        "\n",
        "    def __len__(self):\n",
        "        return len(self.landmarks_frame)\n",
        "\n",
        "    def __getitem__(self, idx):\n",
        "        if torch.is_tensor(idx):\n",
        "            idx = idx.tolist()\n",
        "\n",
        "        img_name = os.path.join(self.root_dir,\n",
        "                                self.landmarks_frame.iloc[idx, 0])\n",
        "        image = io.imread(img_name)\n",
        "        landmarks = self.landmarks_frame.iloc[idx, 1:]\n",
        "        landmarks = np.array([landmarks])\n",
        "        landmarks = landmarks.astype('float').reshape(-1, 2)\n",
        "        sample = {'image': image, 'landmarks': landmarks}\n",
        "\n",
        "        if self.transform:\n",
        "            sample = self.transform(sample)\n",
        "\n",
        "        return sample\n",
        "```\n",
        "\n",
        "Как вы видите, у такого класса **должно быть** два метода: \n",
        "\n",
        "* `__len__` -- возвращает информацию о том, сколько объектов у нас в датасете\n",
        "* `__getitem__` -- возвращает семпл и таргет к нему\n",
        "\n",
        "\n",
        "Теперь давайте напишем такой сами, в качестве датасета сгенерируем рандомные данные."
      ]
    },
    {
      "cell_type": "code",
      "metadata": {
        "id": "OZKesHAgRUq5"
      },
      "source": [
        "class RandomDataset(torch.utils.data.Dataset):\n",
        "    \"\"\"\n",
        "    Our random dataset\n",
        "    \"\"\"\n",
        "    def __init__(self, x, y):\n",
        "        self.x = x\n",
        "        self.y = y\n",
        "        \n",
        "    def __len__(self):\n",
        "        return len(self.x)\n",
        "    \n",
        "    def __getitem__(self, idx):\n",
        "        return {\"sample\": torch.tensor(x[idx, :], dtype=torch.float), \"target\": y[idx]}"
      ],
      "execution_count": null,
      "outputs": []
    },
    {
      "cell_type": "code",
      "metadata": {
        "id": "luDKvDK1RUq5"
      },
      "source": [
        "x = np.random.rand(1000, 5)\n",
        "y = np.random.rand(1000)"
      ],
      "execution_count": null,
      "outputs": []
    },
    {
      "cell_type": "code",
      "metadata": {
        "id": "OreZX1K5RUq5"
      },
      "source": [
        "our_dataset = RandomDataset(x, y)"
      ],
      "execution_count": null,
      "outputs": []
    },
    {
      "cell_type": "code",
      "metadata": {
        "id": "7542QS3IRUq6",
        "outputId": "f4f5f606-91cf-4c23-d2d1-2a3aeabe100b"
      },
      "source": [
        "our_dataset.__getitem__(1)"
      ],
      "execution_count": null,
      "outputs": [
        {
          "data": {
            "text/plain": [
              "{'sample': tensor([0.7447, 0.7060, 0.7835, 0.9348, 0.7714]),\n",
              " 'target': 0.6070174255738682}"
            ]
          },
          "execution_count": 40,
          "metadata": {},
          "output_type": "execute_result"
        }
      ]
    },
    {
      "cell_type": "markdown",
      "metadata": {
        "id": "EHqrgTh_RUq6"
      },
      "source": [
        "Для того, чтобы из данных получать батчи в pytorch используется такая сущность как даталоадер, который принимает на вход класс унаследованный от `torch.utils.data.Dataset`. Сейчас посмотрим на пример:"
      ]
    },
    {
      "cell_type": "code",
      "metadata": {
        "id": "gM_nL2ytRUq6"
      },
      "source": [
        "dataloader = torch.utils.data.DataLoader(our_dataset, batch_size=4)"
      ],
      "execution_count": null,
      "outputs": []
    },
    {
      "cell_type": "markdown",
      "metadata": {
        "id": "47a164OQRUq6"
      },
      "source": [
        "Работают с ним следующим образом:"
      ]
    },
    {
      "cell_type": "code",
      "metadata": {
        "id": "7BWGPOxoRUq6",
        "outputId": "e5bfdefa-112c-4faf-8ecd-7a563edc0fc5"
      },
      "source": [
        "batch = next(iter(dataloader))\n",
        "\n",
        "print(f\"Sample:\\n{batch['sample']}\")\n",
        "print(f\"Target:\\n{batch['target']}\")"
      ],
      "execution_count": null,
      "outputs": [
        {
          "name": "stdout",
          "output_type": "stream",
          "text": [
            "Sample:\n",
            "tensor([[0.4252, 0.4916, 0.5829, 0.3299, 0.0676],\n",
            "        [0.7447, 0.7060, 0.7835, 0.9348, 0.7714],\n",
            "        [0.2173, 0.3193, 0.8351, 0.8803, 0.9282],\n",
            "        [0.3458, 0.9345, 0.5077, 0.0606, 0.7029]])\n",
            "Target:\n",
            "tensor([0.6321, 0.6070, 0.9880, 0.1984], dtype=torch.float64)\n"
          ]
        }
      ]
    },
    {
      "cell_type": "markdown",
      "metadata": {
        "id": "zHl_YtnTRUq6"
      },
      "source": [
        "#### Как сделать нейросеть"
      ]
    },
    {
      "cell_type": "markdown",
      "metadata": {
        "id": "1t5dHOc1RUq6"
      },
      "source": [
        "Для того, чтобы в high-level pytorch создавать нейросети используется модуль `nn`. Нейросеть должна быть унаследована от класса `nn.Module`. Пример как это может выглядеть:\n",
        "\n",
        "```\n",
        "class Model(nn.Module):\n",
        "    def __init__(self):\n",
        "        super(Model, self).__init__()\n",
        "        self.conv1 = nn.Conv2d(1, 20, 5)\n",
        "        self.conv2 = nn.Conv2d(20, 20, 5)\n",
        "\n",
        "    def forward(self, x):\n",
        "       x = F.relu(self.conv1(x))\n",
        "       return F.relu(self.conv2(x))\n",
        "```\n",
        "\n",
        "Как мы видим на данном примере, у данного класса **должен быть** метод `forward`, который определяет прямой проход нейросети. Также из класса выше видно, что модуль `nn` содержит в себе реализацию большинства слоев, а модуль `nn.functional` -- функций активаций.\n",
        "\n",
        "Есть еще один способ создать нейросеть и давайте его разберем на практике:"
      ]
    },
    {
      "cell_type": "code",
      "metadata": {
        "id": "7kdX_cIVRUq7"
      },
      "source": [
        "model = nn.Sequential()                   # создаем пустую модель, в которую будем добавлять слои\n",
        "model.add_module(\"l1\", nn.Linear(5, 10))  # добавили слой с 5-ю нейронами на вход и 3-мя на выход\n",
        "model.add_module(\"l2\", nn.ReLU())         # добавили функцию активации\n",
        "model.add_module(\"l3\", nn.Linear(10, 1))  # добавили слой с 3-мя нейронами на вход и 5-ю на выход\n",
        "\n",
        "# альтернативный способ\n",
        "another_model = nn.Sequential(\n",
        "    nn.Linear(5, 10),\n",
        "    nn.ReLU(),\n",
        "    nn.Linear(10, 1)\n",
        ")"
      ],
      "execution_count": null,
      "outputs": []
    },
    {
      "cell_type": "code",
      "metadata": {
        "id": "rntDGaObRUq7"
      },
      "source": [
        "y_pred = model(batch['sample']) # получили предсказания модели"
      ],
      "execution_count": null,
      "outputs": []
    },
    {
      "cell_type": "markdown",
      "metadata": {
        "id": "fqAjCNqwRUq7"
      },
      "source": [
        "#### Как написать цикл обучения и отслеживать метрики\n",
        " \n",
        "Давайте теперь соберем теперь загрузку данных, создание модели и обучим на уже созданном для нас датасете MNIST"
      ]
    },
    {
      "cell_type": "code",
      "metadata": {
        "id": "Qk8-ZyxeRUq7"
      },
      "source": [
        "# используем готовый класс от торча для загрузки данных для тренировки\n",
        "mnist_train = torchvision.datasets.MNIST(\n",
        "    \"./mnist/\", \n",
        "    train=True, \n",
        "    download=True, \n",
        "    transform=torchvision.transforms.ToTensor()\n",
        ") \n",
        "mnist_val = torchvision.datasets.MNIST(\n",
        "    \"./mnist/\",\n",
        "    train=False, \n",
        "    download=True,\n",
        "    transform=torchvision.transforms.ToTensor()\n",
        ")\n",
        "\n",
        "# так как это уже унаследованный от Dataset класс, его можно сразу обернуть в даталоадер\n",
        "train_dataloader = torch.utils.data.DataLoader(\n",
        "    mnist_train, \n",
        "    batch_size=4, \n",
        "    shuffle=True, \n",
        "    num_workers=1\n",
        ") \n",
        "\n",
        "val_dataloader = torch.utils.data.DataLoader(\n",
        "    mnist_val, \n",
        "    batch_size=4, \n",
        "    shuffle=True, \n",
        "    num_workers=1\n",
        ")"
      ],
      "execution_count": null,
      "outputs": []
    },
    {
      "cell_type": "code",
      "metadata": {
        "scrolled": true,
        "id": "NacRyH3MRUq7",
        "outputId": "05248fb8-8c7b-45f6-eb09-0a8df7e7c210"
      },
      "source": [
        "# посмотрим на то, с чем мы работаем\n",
        "for i in [0, 1]:\n",
        "    plt.subplot(1, 2, i + 1)\n",
        "    plt.imshow(mnist_train[i][0].squeeze(0).numpy().reshape([28, 28]))\n",
        "    plt.title(str(mnist_train[i][1]))\n",
        "plt.show()"
      ],
      "execution_count": null,
      "outputs": [
        {
          "data": {
            "image/png": "[encoded data removed]",
            "text/plain": [
              "<Figure size 432x288 with 2 Axes>"
            ]
          },
          "metadata": {
            "needs_background": "light"
          },
          "output_type": "display_data"
        }
      ]
    },
    {
      "cell_type": "code",
      "metadata": {
        "id": "Q99ERmBVRUq7"
      },
      "source": [
        "model = nn.Sequential(\n",
        "    nn.Flatten(),             # превращаем картинку 28х28 в вектор размером 784\n",
        "    nn.Linear(28 * 28, 128),  # линейный слой, преобразующий вектор размера 784 в вектор размера 128\n",
        "    nn.ReLU(),                # нелинейность\n",
        "    nn.Linear(128, 10),       # линейный слой, преобразующий вектор размера 128 в вектор размера 10\n",
        ")\n",
        "\n",
        "# создаем оптимизатор, который будет обновлять веса модели\n",
        "optimizer = torch.optim.SGD(model.parameters(), lr=0.05) "
      ],
      "execution_count": null,
      "outputs": []
    },
    {
      "cell_type": "markdown",
      "metadata": {
        "id": "9jT44PCCRUq7"
      },
      "source": [
        "Веса моделей хранятся в виде матриц и выглядят так:"
      ]
    },
    {
      "cell_type": "code",
      "metadata": {
        "scrolled": false,
        "id": "KDUnpukwRUq8",
        "outputId": "071e4272-a898-4824-8654-8d7d2e1474d7"
      },
      "source": [
        "[x for x in model.named_parameters()] "
      ],
      "execution_count": null,
      "outputs": [
        {
          "data": {
            "text/plain": [
              "[('1.weight',\n",
              "  Parameter containing:\n",
              "  tensor([[ 0.0007,  0.0229, -0.0022,  ..., -0.0266,  0.0115,  0.0053],\n",
              "          [-0.0255,  0.0302,  0.0199,  ...,  0.0119,  0.0093, -0.0115],\n",
              "          [-0.0302,  0.0302, -0.0085,  ..., -0.0218,  0.0246,  0.0350],\n",
              "          ...,\n",
              "          [-0.0168, -0.0170,  0.0248,  ..., -0.0022,  0.0122,  0.0088],\n",
              "          [ 0.0112,  0.0137, -0.0151,  ...,  0.0072,  0.0083, -0.0178],\n",
              "          [-0.0059,  0.0312, -0.0187,  ..., -0.0050, -0.0188, -0.0209]],\n",
              "         requires_grad=True)),\n",
              " ('1.bias',\n",
              "  Parameter containing:\n",
              "  tensor([-0.0303,  0.0165,  0.0224, -0.0242,  0.0256, -0.0271, -0.0262,  0.0081,\n",
              "          -0.0021, -0.0324,  0.0343, -0.0007,  0.0356, -0.0043,  0.0141,  0.0137,\n",
              "          -0.0298, -0.0062, -0.0210,  0.0235, -0.0239,  0.0013, -0.0346,  0.0138,\n",
              "           0.0111,  0.0246, -0.0128, -0.0163, -0.0094, -0.0117, -0.0350, -0.0228,\n",
              "           0.0208,  0.0326,  0.0200, -0.0269,  0.0289, -0.0266, -0.0135,  0.0280,\n",
              "          -0.0291,  0.0168, -0.0226, -0.0349, -0.0285, -0.0283, -0.0207,  0.0161,\n",
              "          -0.0172, -0.0287,  0.0054,  0.0279,  0.0140, -0.0100,  0.0028, -0.0329,\n",
              "           0.0324,  0.0178, -0.0114, -0.0040,  0.0311, -0.0187, -0.0080,  0.0108,\n",
              "           0.0048,  0.0032,  0.0138,  0.0337, -0.0180,  0.0173, -0.0214,  0.0046,\n",
              "          -0.0111, -0.0349, -0.0284, -0.0165,  0.0310, -0.0096,  0.0018,  0.0047,\n",
              "           0.0136,  0.0260, -0.0306, -0.0351,  0.0008, -0.0006,  0.0236, -0.0151,\n",
              "          -0.0116, -0.0224, -0.0216, -0.0130, -0.0227,  0.0168,  0.0121,  0.0095,\n",
              "          -0.0054, -0.0050, -0.0123, -0.0085,  0.0122,  0.0150, -0.0159,  0.0012,\n",
              "           0.0096,  0.0073,  0.0340, -0.0003, -0.0216,  0.0162, -0.0071,  0.0093,\n",
              "           0.0223,  0.0017, -0.0152, -0.0340,  0.0301, -0.0083, -0.0137,  0.0076,\n",
              "          -0.0217,  0.0332,  0.0343, -0.0141,  0.0317,  0.0131,  0.0295,  0.0214],\n",
              "         requires_grad=True)),\n",
              " ('3.weight',\n",
              "  Parameter containing:\n",
              "  tensor([[ 0.0244, -0.0149,  0.0796,  ..., -0.0211,  0.0649, -0.0573],\n",
              "          [-0.0498,  0.0043,  0.0750,  ...,  0.0657, -0.0027, -0.0675],\n",
              "          [-0.0016, -0.0746,  0.0037,  ..., -0.0326,  0.0570,  0.0271],\n",
              "          ...,\n",
              "          [-0.0798,  0.0091,  0.0682,  ...,  0.0530, -0.0411, -0.0326],\n",
              "          [ 0.0209,  0.0880,  0.0598,  ..., -0.0159, -0.0795,  0.0358],\n",
              "          [ 0.0290,  0.0125, -0.0797,  ...,  0.0429, -0.0847, -0.0183]],\n",
              "         requires_grad=True)),\n",
              " ('3.bias',\n",
              "  Parameter containing:\n",
              "  tensor([ 0.0113,  0.0636,  0.0850,  0.0403,  0.0707,  0.0386,  0.0423,  0.0474,\n",
              "           0.0071, -0.0011], requires_grad=True))]"
            ]
          },
          "execution_count": 48,
          "metadata": {},
          "output_type": "execute_result"
        }
      ]
    },
    {
      "cell_type": "markdown",
      "metadata": {
        "id": "dsJVpGZgRUq8"
      },
      "source": [
        "_Красиво_ трекать метрики в полуавтоматическом режиме мы будем в [wandb](https://wandb.ai). Для этого регистрируемся на сайте, устанавливаем и логинимся(это того стоит):"
      ]
    },
    {
      "cell_type": "code",
      "metadata": {
        "id": "KpL42yevRUq8"
      },
      "source": [
        "# !pip install wandb --upgrade --quiet\n",
        "import wandb\n",
        "\n",
        "# логинимся в своего пользователя (предварительно нужно ввести ключ из настроек с wandb.ai через консоль)\n",
        "wandb.login()\n",
        "# инициализируем проект\n",
        "wandb.init(project=\"pytorch-demo\")\n",
        "# сохраняем параметры сетки в wandb + просим следить за градиентами сетки\n",
        "wandb.watch(model);"
      ],
      "execution_count": null,
      "outputs": []
    },
    {
      "cell_type": "markdown",
      "metadata": {
        "id": "io8DtKRrRUq8"
      },
      "source": [
        "Можно перейти по ссылке и следить за нашей моделью прямо во время обучения!"
      ]
    },
    {
      "cell_type": "code",
      "metadata": {
        "scrolled": false,
        "id": "QTcHoIZ8RUq8",
        "outputId": "02c3207a-cf2a-4dde-d8be-91fbe36f2f41"
      },
      "source": [
        "# всего у нас будет 5 эпох (5 раз подряд пройдемся по всем батчам из трейна)\n",
        "for epoch in range(5):\n",
        "    for x_train, y_train in tqdm(train_dataloader):    # берем батч из трейн лоадера\n",
        "        y_pred = model(x_train)                        # делаем предсказания\n",
        "        loss = F.cross_entropy(y_pred, y_train)        # считаем лосс\n",
        "        loss.backward()                                # считаем градиенты обратным проходом\n",
        "        optimizer.step()                               # обновляем параметры сети\n",
        "        optimizer.zero_grad()                          # обнуляем посчитанные градиенты параметров\n",
        "    \n",
        "    if epoch % 2 == 0:\n",
        "        val_loss = []                                  # сюда будем складывать **средний по бачу** лосс\n",
        "        val_accuracy = []\n",
        "        with torch.no_grad():                          # на валидации запрещаем фреймворку считать градиенты по параметрам\n",
        "            for x_val, y_val in tqdm(val_dataloader):  # берем батч из вал лоадера\n",
        "                y_pred = model(x_val)                  # делаем предсказания\n",
        "                loss = F.cross_entropy(y_pred, y_val)  # считаем лосс\n",
        "                val_loss.append(loss.numpy())          # добавляем в массив \n",
        "                val_accuracy.extend((torch.argmax(y_pred, dim=-1) == y_val).numpy().tolist())\n",
        "          \n",
        "        # скидываем метрики на wandb и автоматом смотрим на графики\n",
        "        wandb.log({\"mean val loss\": np.mean(val_loss),\n",
        "                   \"mean val accuracy\": np.mean(val_accuracy)})\n",
        "        \n",
        "        # печатаем метрики\n",
        "        print(f\"Epoch: {epoch}, loss: {np.mean(val_loss)}, accuracy: {np.mean(val_accuracy)}\")"
      ],
      "execution_count": null,
      "outputs": [
        {
          "data": {
            "application/vnd.jupyter.widget-view+json": {
              "model_id": "59b758f3ddee4b92ae04cc78a4fe4a61",
              "version_major": 2,
              "version_minor": 0
            },
            "text/plain": [
              "  0%|          | 0/15000 [00:00<?, ?it/s]"
            ]
          },
          "metadata": {},
          "output_type": "display_data"
        },
        {
          "data": {
            "application/vnd.jupyter.widget-view+json": {
              "model_id": "ecee0a2343484a1a82bf3b495377986a",
              "version_major": 2,
              "version_minor": 0
            },
            "text/plain": [
              "  0%|          | 0/2500 [00:00<?, ?it/s]"
            ]
          },
          "metadata": {},
          "output_type": "display_data"
        },
        {
          "name": "stdout",
          "output_type": "stream",
          "text": [
            "Epoch: 0, loss: 0.11368751525878906, accuracy: 0.9649\n"
          ]
        },
        {
          "data": {
            "application/vnd.jupyter.widget-view+json": {
              "model_id": "bbb1dea8fc0145a4933d50183d9010a1",
              "version_major": 2,
              "version_minor": 0
            },
            "text/plain": [
              "  0%|          | 0/15000 [00:00<?, ?it/s]"
            ]
          },
          "metadata": {},
          "output_type": "display_data"
        },
        {
          "data": {
            "application/vnd.jupyter.widget-view+json": {
              "model_id": "df47483d252a406aae33c3a0d53b9dd0",
              "version_major": 2,
              "version_minor": 0
            },
            "text/plain": [
              "  0%|          | 0/15000 [00:00<?, ?it/s]"
            ]
          },
          "metadata": {},
          "output_type": "display_data"
        },
        {
          "data": {
            "application/vnd.jupyter.widget-view+json": {
              "model_id": "0ddfe2b0cbe74ebabb0a57d08781f3bb",
              "version_major": 2,
              "version_minor": 0
            },
            "text/plain": [
              "  0%|          | 0/2500 [00:00<?, ?it/s]"
            ]
          },
          "metadata": {},
          "output_type": "display_data"
        },
        {
          "name": "stdout",
          "output_type": "stream",
          "text": [
            "Epoch: 2, loss: 0.08628030866384506, accuracy: 0.9746\n"
          ]
        },
        {
          "data": {
            "application/vnd.jupyter.widget-view+json": {
              "model_id": "e4a6abfd33e844ac84e24fe3e8d37406",
              "version_major": 2,
              "version_minor": 0
            },
            "text/plain": [
              "  0%|          | 0/15000 [00:00<?, ?it/s]"
            ]
          },
          "metadata": {},
          "output_type": "display_data"
        },
        {
          "data": {
            "application/vnd.jupyter.widget-view+json": {
              "model_id": "6d5524ced45649a2811b2d1bed9967f3",
              "version_major": 2,
              "version_minor": 0
            },
            "text/plain": [
              "  0%|          | 0/15000 [00:00<?, ?it/s]"
            ]
          },
          "metadata": {},
          "output_type": "display_data"
        },
        {
          "data": {
            "application/vnd.jupyter.widget-view+json": {
              "model_id": "710c6c21db6c49219bcfccd34fdaa786",
              "version_major": 2,
              "version_minor": 0
            },
            "text/plain": [
              "  0%|          | 0/2500 [00:00<?, ?it/s]"
            ]
          },
          "metadata": {},
          "output_type": "display_data"
        },
        {
          "name": "stdout",
          "output_type": "stream",
          "text": [
            "Epoch: 4, loss: 0.08445032685995102, accuracy: 0.9763\n"
          ]
        }
      ]
    },
    {
      "cell_type": "markdown",
      "metadata": {
        "id": "YKRYOk9oRUq8"
      },
      "source": [
        "### Дополнительные материалы:\n",
        "\n",
        "* [PyTroch на простейшем примере с пояснениями](https://github.com/Kaixhin/grokking-pytorch)\n",
        "* [Хорошая книга про pytorch](https://pytorch.org/assets/deep-learning/Deep-Learning-with-PyTorch.pdf)\n",
        "* [Использование pytorch на GPU](https://pytorch.org/docs/master/notes/cuda.html)\n",
        "* [Pytorch за 60 минут](http://pytorch.org/tutorials/beginner/deep_learning_60min_blitz.html)\n",
        "* [Как устроено автоматическое дифференцирование в pytorch](http://videolectures.net/site/normal_dl/tag=1129745/deeplearning2017_johnson_automatic_differentiation_01.pdf)"
      ]
    }
  ]
}